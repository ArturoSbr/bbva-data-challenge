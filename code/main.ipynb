{
 "cells": [
  {
   "cell_type": "markdown",
   "id": "cebd0c3e",
   "metadata": {},
   "source": [
    "Imports"
   ]
  },
  {
   "cell_type": "code",
   "execution_count": null,
   "id": "b4a8accb",
   "metadata": {},
   "outputs": [],
   "source": [
    "# Official imports\n",
    "import os\n",
    "import numpy as np\n",
    "import pandas as pd\n",
    "import matplotlib.pyplot as plt\n",
    "\n",
    "# Inhouse imports\n",
    "from utils import fake_target, plot_dual_y\n",
    "\n",
    "# Misc\n",
    "pd.set_option('display.max_columns', None)"
   ]
  },
  {
   "cell_type": "markdown",
   "id": "5d5a8c22",
   "metadata": {},
   "source": [
    "Read data"
   ]
  },
  {
   "cell_type": "code",
   "execution_count": null,
   "id": "db1b8916",
   "metadata": {},
   "outputs": [],
   "source": [
    "# Read\n",
    "df = pd.read_csv(os.path.join('..', 'data', 'data.csv'))\n",
    "\n",
    "# List of columns\n",
    "cols_og_feats = df.columns[1:]\n",
    "\n",
    "# Plot all OG features against target\n",
    "# for col in cols_og_feats:\n",
    "#     plot_dual_y(df, col, 'y', 'fecha_str')\n",
    "\n",
    "# Select core columns (lags, moving averages, emas, etc)\n",
    "cols_core = [\n",
    "    'cetes_12m',\n",
    "    'cetes_1m',\n",
    "    # 'cetes_3m',\n",
    "    # 'cetes_6m',\n",
    "    'exchange_rate_usd',\n",
    "    'exportaciones_no_petroleras',\n",
    "    # 'imss',\n",
    "    'inpc',\n",
    "    'official_interest_rate_usa',\n",
    "    'pib',\n",
    "    'snp500',\n",
    "    # 'sovereign_10y',\n",
    "    # 'sovereign_3y',\n",
    "    # 'sovereign_5y',\n",
    "    'stock_market',\n",
    "    'tasa_desempleo',\n",
    "    # 'tasa_fondeo_1d',\n",
    "    # 'treasury_10y',\n",
    "    # 'treasury_1m',\n",
    "    # 'treasury_1y',\n",
    "    # 'treasury_3m',\n",
    "    # 'treasury_3y',\n",
    "    # 'treasury_5y',\n",
    "    # 'treasury_6m',\n",
    "    'vix',\n",
    "    'vix_bmv'\n",
    "]"
   ]
  },
  {
   "cell_type": "markdown",
   "id": "512d9644",
   "metadata": {},
   "source": [
    "Set column types"
   ]
  },
  {
   "cell_type": "code",
   "execution_count": null,
   "id": "ea571710",
   "metadata": {},
   "outputs": [],
   "source": [
    "# x-ticks for plots\n",
    "df['fecha_str'] = df['fecha'].str[:7]\n",
    "\n",
    "# Cast fecha to date type\n",
    "df['fecha'] = pd.to_datetime(df['fecha'], format='%Y-%m-%d')"
   ]
  },
  {
   "cell_type": "markdown",
   "id": "eec2be3a",
   "metadata": {},
   "source": [
    "## Feature engineering\n",
    "1. Time features"
   ]
  },
  {
   "cell_type": "code",
   "execution_count": null,
   "id": "5d105d8b",
   "metadata": {},
   "outputs": [],
   "source": [
    "# Base features\n",
    "df = df.assign(\n",
    "    t = np.arange(len(df)),\n",
    "    month = df['fecha'].dt.month,\n",
    "    quarter = df['fecha'].dt.quarter,\n",
    "    year = df['fecha'].dt.year\n",
    ")\n",
    "\n",
    "# From base features\n",
    "df = df.assign(\n",
    "    # Long term\n",
    "    t2 = df['t'].pow(2),\n",
    "    t3 = df['t'].pow(3),\n",
    "    logt1 = np.log(df['t'] + 1),\n",
    "    # Seasonality\n",
    "    sin_month_1 = np.sin(2 * np.pi * df['month'] / 12),\n",
    "    sin_month_2 = np.sin(2 * np.pi * 2 * df['month'] / 12),\n",
    "    sin_month_3 = np.sin(2 * np.pi * 3 * df['month'] / 12),\n",
    "    cos_month_1 = np.cos(2 * np.pi * df['month'] / 12),\n",
    "    cos_month_2 = np.cos(2 * np.pi * 2 * df['month'] / 12),\n",
    "    cos_month_3 = np.cos(2 * np.pi * 3 * df['month'] / 12),\n",
    "    # Crises\n",
    "    is_post_covid = df['fecha'].ge('2020-04-01').astype(int),\n",
    "    is_post_gfc = df['fecha'].ge('2008-09-01').astype(int)\n",
    ")\n",
    "\n",
    "# Dummies\n",
    "cols_season = ['month', 'quarter']\n",
    "df = pd.concat(\n",
    "    objs=[\n",
    "        df,\n",
    "        pd.get_dummies(df[cols_season], columns=cols_season, dtype=int)\n",
    "    ],\n",
    "    axis=1\n",
    ")       \n",
    "\n",
    "# Fake target\n",
    "df = fake_target(df)"
   ]
  },
  {
   "cell_type": "markdown",
   "id": "d4e5a174",
   "metadata": {},
   "source": [
    "2. Lags"
   ]
  },
  {
   "cell_type": "code",
   "execution_count": null,
   "id": "f60b96e9",
   "metadata": {},
   "outputs": [],
   "source": [
    "# Lag all columns\n",
    "lags = [1, 2, 3, 6, 12]\n",
    "_temp = df[cols_og_feats].shift(periods=lags)\n",
    "_temp.columns = [\n",
    "    '_'.join(col.split('_')[:-1]) + '_lag' + col.split('_')[-1] for col in _temp.columns\n",
    "]  # Add _lagX suffix\n",
    "\n",
    "# Fill nans with most recent value\n",
    "for col in _temp.columns:\n",
    "    col_og = col.split('_lag')[0]\n",
    "    _temp[col] = _temp[col].fillna(df[col_og])\n",
    "df = pd.concat([df, _temp], axis=1)\n",
    "del _temp"
   ]
  },
  {
   "cell_type": "markdown",
   "id": "bd1651d0",
   "metadata": {},
   "source": [
    "3. Roling functions"
   ]
  },
  {
   "cell_type": "code",
   "execution_count": null,
   "id": "98018332",
   "metadata": {},
   "outputs": [],
   "source": [
    "windows = [3, 6, 9, 12]\n",
    "\n",
    "# Silly functions\n",
    "funs = ['mean', 'min', 'max', 'std']\n",
    "for window in windows:\n",
    "    _temp = (\n",
    "        df[cols_og_feats]\n",
    "        .rolling(window, min_periods=1, center=False)\n",
    "        .agg(funs)\n",
    "    )\n",
    "    _temp.columns = [f\"{'_'.join(col)}_w{window}\" for col in _temp.columns]\n",
    "\n",
    "    # Declare min/max ratio\n",
    "    for col in cols_og_feats:\n",
    "        _temp[f'{col}_minmax_w{window}'] = _temp[f'{col}_min_w{window}'].div(\n",
    "            _temp[f'{col}_max_w{window}'].replace(0, 0.1)\n",
    "        )\n",
    "        \n",
    "    # Drop min or max (only minmax)\n",
    "    _temp = _temp.drop(\n",
    "        columns=[col for col in _temp.columns if ('_min_w' in col) or ('_max_w' in col)]\n",
    "    )\n",
    "\n",
    "    # Append to df\n",
    "    df = pd.concat([df, _temp], axis=1)\n",
    "\n",
    "# EMAs\n",
    "for span in windows[:2]:\n",
    "    for col in cols_og_feats:\n",
    "        df[f'{col}_ema{span}'] = df[col].ewm(span=span, adjust=False).mean()"
   ]
  },
  {
   "cell_type": "markdown",
   "id": "8857e276",
   "metadata": {},
   "source": [
    "## Bivariate Selection"
   ]
  }
 ],
 "metadata": {
  "kernelspec": {
   "display_name": "chall",
   "language": "python",
   "name": "python3"
  },
  "language_info": {
   "codemirror_mode": {
    "name": "ipython",
    "version": 3
   },
   "file_extension": ".py",
   "mimetype": "text/x-python",
   "name": "python",
   "nbconvert_exporter": "python",
   "pygments_lexer": "ipython3",
   "version": "3.12.7"
  }
 },
 "nbformat": 4,
 "nbformat_minor": 5
}
