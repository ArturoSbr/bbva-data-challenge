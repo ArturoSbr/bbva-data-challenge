{
 "cells": [
  {
   "cell_type": "markdown",
   "id": "a2fd4963",
   "metadata": {},
   "source": [
    "Colors"
   ]
  },
  {
   "cell_type": "code",
   "execution_count": 1,
   "id": "66010fe7",
   "metadata": {},
   "outputs": [],
   "source": [
    "#13599B  # Blue\n",
    "#2DCCCD  # Aqua\n",
    "#EE3A6A  # Pink\n",
    "#F35E61  # Coral"
   ]
  },
  {
   "cell_type": "markdown",
   "id": "cebd0c3e",
   "metadata": {},
   "source": [
    "Imports"
   ]
  },
  {
   "cell_type": "code",
   "execution_count": 2,
   "id": "b4a8accb",
   "metadata": {},
   "outputs": [],
   "source": [
    "# Official imports\n",
    "import os\n",
    "import numpy as np\n",
    "import pandas as pd\n",
    "import matplotlib.pyplot as plt\n",
    "from sklearn.feature_selection import mutual_info_regression\n",
    "\n",
    "# Inhouse imports\n",
    "from utils import fake_target, plot_dual_y\n",
    "\n",
    "# Misc\n",
    "pd.set_option('display.max_columns', None)\n",
    "pd.set_option('display.max_rows', None)"
   ]
  },
  {
   "cell_type": "markdown",
   "id": "5d5a8c22",
   "metadata": {},
   "source": [
    "Read data"
   ]
  },
  {
   "cell_type": "code",
   "execution_count": 3,
   "id": "db1b8916",
   "metadata": {},
   "outputs": [],
   "source": [
    "# Read\n",
    "df = pd.read_csv(os.path.join('..', 'data', 'data.csv'))\n",
    "\n",
    "# List of columns\n",
    "cols_og_feats = list(df.columns[1:])"
   ]
  },
  {
   "cell_type": "markdown",
   "id": "512d9644",
   "metadata": {},
   "source": [
    "Set column types"
   ]
  },
  {
   "cell_type": "code",
   "execution_count": 4,
   "id": "ea571710",
   "metadata": {},
   "outputs": [],
   "source": [
    "# x-ticks for plots\n",
    "df['fecha_str'] = df['fecha'].str[:7]\n",
    "\n",
    "# Cast fecha to date type\n",
    "df['fecha'] = pd.to_datetime(df['fecha'], format='%Y-%m-%d')"
   ]
  },
  {
   "cell_type": "markdown",
   "id": "eec2be3a",
   "metadata": {},
   "source": [
    "## Feature engineering\n",
    "1. Time features"
   ]
  },
  {
   "cell_type": "code",
   "execution_count": 5,
   "id": "5d105d8b",
   "metadata": {},
   "outputs": [],
   "source": [
    "# Base features\n",
    "df = df.assign(\n",
    "    t = np.arange(len(df)),\n",
    "    month = df['fecha'].dt.month,\n",
    "    quarter = df['fecha'].dt.quarter,\n",
    "    year = df['fecha'].dt.year\n",
    ")\n",
    "\n",
    "# From base features\n",
    "df = df.assign(\n",
    "    # Long term\n",
    "    t2 = df['t'].pow(2),\n",
    "    t3 = df['t'].pow(3),\n",
    "    logt = np.log(df['t'] + 1),\n",
    "    # Seasonality\n",
    "    sin_month_1k = np.sin(2 * np.pi * df['month'] / 12),\n",
    "    sin_month_2k = np.sin(2 * np.pi * 2 * df['month'] / 12),\n",
    "    sin_month_3k = np.sin(2 * np.pi * 3 * df['month'] / 12),\n",
    "    cos_month_1k = np.cos(2 * np.pi * df['month'] / 12),\n",
    "    cos_month_2k = np.cos(2 * np.pi * 2 * df['month'] / 12),\n",
    "    cos_month_3k = np.cos(2 * np.pi * 3 * df['month'] / 12),\n",
    "    # Crises\n",
    "    is_post_covid = df['fecha'].ge('2020-04-01').astype(int),\n",
    "    is_post_gfc = df['fecha'].ge('2008-09-01').astype(int)\n",
    ")\n",
    "\n",
    "# Dummies\n",
    "cols_season = ['month', 'quarter']\n",
    "df = pd.concat(\n",
    "    objs=[\n",
    "        df,\n",
    "        pd.get_dummies(df[cols_season], columns=cols_season, dtype=int)\n",
    "    ],\n",
    "    axis=1\n",
    ")       \n",
    "\n",
    "# Fake target\n",
    "df['y'] = fake_target(df)"
   ]
  },
  {
   "cell_type": "markdown",
   "id": "d4e5a174",
   "metadata": {},
   "source": [
    "2. Lags"
   ]
  },
  {
   "cell_type": "code",
   "execution_count": 6,
   "id": "f60b96e9",
   "metadata": {},
   "outputs": [],
   "source": [
    "# Lag all columns\n",
    "lags = [1, 2, 3, 6, 12]\n",
    "_temp = df[cols_og_feats].shift(periods=lags)\n",
    "_temp.columns = [\n",
    "    '_'.join(col.split('_')[:-1]) + '_lag' + col.split('_')[-1]\n",
    "    for col in _temp.columns\n",
    "]  # Add _lagX suffix\n",
    "\n",
    "# Fill nans with most recent value\n",
    "for col in _temp.columns:\n",
    "    col_og = col.split('_lag')[0]\n",
    "    _temp[col] = _temp[col].fillna(df[col_og])\n",
    "df = pd.concat([df, _temp], axis=1)\n",
    "del _temp"
   ]
  },
  {
   "cell_type": "markdown",
   "id": "bd1651d0",
   "metadata": {},
   "source": [
    "3. Roling functions"
   ]
  },
  {
   "cell_type": "code",
   "execution_count": 7,
   "id": "98018332",
   "metadata": {},
   "outputs": [],
   "source": [
    "windows = [3, 6, 9, 12]\n",
    "\n",
    "# Silly functions\n",
    "funs = ['mean', 'min', 'max', 'std']\n",
    "for window in windows:\n",
    "    _temp = (\n",
    "        df[cols_og_feats]\n",
    "        .rolling(window, min_periods=1, center=False)\n",
    "        .agg(funs)\n",
    "    )\n",
    "    _temp.columns = [f\"{'_'.join(col)}_w{window}\" for col in _temp.columns]\n",
    "\n",
    "    # Declare min/max ratio\n",
    "    for col in cols_og_feats:\n",
    "        _temp[f'{col}_minmax_w{window}'] = _temp[f'{col}_min_w{window}'].div(\n",
    "            _temp[f'{col}_max_w{window}'].replace(0, 0.1)\n",
    "        )\n",
    "        \n",
    "    # Drop min or max (only minmax)\n",
    "    _temp = _temp.drop(\n",
    "        columns=[col for col in _temp.columns if ('_min_w' in col) or ('_max_w' in col)]\n",
    "    )\n",
    "\n",
    "    # Append to df\n",
    "    df = pd.concat([df, _temp], axis=1).fillna(0)\n",
    "\n",
    "# EMAs\n",
    "for span in windows[:2]:\n",
    "    for col in cols_og_feats:\n",
    "        df[f'{col}_ema{span}'] = df[col].ewm(span=span, adjust=False).mean()"
   ]
  },
  {
   "cell_type": "markdown",
   "id": "8857e276",
   "metadata": {},
   "source": [
    "## Bivariate Selection\n",
    "\n",
    "Split data into features and target"
   ]
  },
  {
   "cell_type": "code",
   "execution_count": null,
   "id": "1f873089",
   "metadata": {},
   "outputs": [],
   "source": [
    "# Split data into features and target\n",
    "feats = cols_og_feats + [\n",
    "    col for col in df.columns if ('_lag' in col) or ('_w' in col) or ('_ema' in col)\n",
    "    or ('_sin' in  col) or ('_cos' in col)\n",
    "]\n",
    "X, y = df[feats], df['y']\n",
    "\n",
    "# Mutial info scores\n",
    "mi = mutual_info_regression(X, y, discrete_features='auto')\n",
    "mi = dict(zip(feats, mi))\n",
    "\n",
    "# Correlations\n",
    "corr = X.corr()\n",
    "\n",
    "# Correlation cutoff\n",
    "CORR_CUTOFF = 0.85\n",
    "\n",
    "# For every pair of features with |corr| > CORR_CUTOFF, drop the one with the lowest mutial info coef.\n",
    "biv_drop = set()\n",
    "for i, feat_i in enumerate(feats):\n",
    "    for j, feat_j in enumerate(feats[i + 1:], start=i + 1):\n",
    "        corr_ij = corr.iloc[i, j]\n",
    "        if np.abs(corr_ij) > CORR_CUTOFF:\n",
    "            # Drop feature with lower MI score\n",
    "            if mi[feat_i] < mi[feat_j]:\n",
    "                biv_drop.add(feat_i)\n",
    "            else:\n",
    "                biv_drop.add(feat_j)\n",
    "\n"
   ]
  }
 ],
 "metadata": {
  "kernelspec": {
   "display_name": "chall",
   "language": "python",
   "name": "python3"
  },
  "language_info": {
   "codemirror_mode": {
    "name": "ipython",
    "version": 3
   },
   "file_extension": ".py",
   "mimetype": "text/x-python",
   "name": "python",
   "nbconvert_exporter": "python",
   "pygments_lexer": "ipython3",
   "version": "3.12.7"
  }
 },
 "nbformat": 4,
 "nbformat_minor": 5
}
